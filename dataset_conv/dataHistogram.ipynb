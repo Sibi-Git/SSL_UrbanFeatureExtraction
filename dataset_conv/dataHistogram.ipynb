{
  "cells": [
    {
      "cell_type": "code",
      "execution_count": null,
      "metadata": {},
      "outputs": [],
      "source": [
        "# Sibi Marappan"
      ]
    },
    {
      "cell_type": "code",
      "execution_count": null,
      "metadata": {
        "id": "Qrbe3kpvQTd5"
      },
      "outputs": [],
      "source": [
        "import matplotlib.pyplot as plt\n",
        "import numpy as np\n",
        "\n",
        "x = [i for i in range(1000, 21000, 1000)]"
      ]
    },
    {
      "cell_type": "code",
      "execution_count": null,
      "metadata": {
        "colab": {
          "base_uri": "https://localhost:8080/"
        },
        "id": "0bYguBPrQjv9",
        "outputId": "7f7ee3d3-5be1-4463-a8d1-a524ab2d41e5"
      },
      "outputs": [
        {
          "data": {
            "text/plain": [
              "[1000,\n",
              " 2000,\n",
              " 3000,\n",
              " 4000,\n",
              " 5000,\n",
              " 6000,\n",
              " 7000,\n",
              " 8000,\n",
              " 9000,\n",
              " 10000,\n",
              " 11000,\n",
              " 12000,\n",
              " 13000,\n",
              " 14000,\n",
              " 15000,\n",
              " 16000,\n",
              " 17000,\n",
              " 18000,\n",
              " 19000,\n",
              " 20000]"
            ]
          },
          "execution_count": 36,
          "metadata": {},
          "output_type": "execute_result"
        }
      ],
      "source": [
        "x"
      ]
    },
    {
      "cell_type": "code",
      "execution_count": null,
      "metadata": {
        "id": "zjCDEbBtQkGD"
      },
      "outputs": [],
      "source": [
        "y = [200, 687, 953, 1059, 1312, 1365, 1393, 1405, 1408, 1409, 1410, 1410, 1411, 1411, 1411, 1411, 1411, 1411, 1411, 1411]"
      ]
    },
    {
      "cell_type": "code",
      "execution_count": null,
      "metadata": {
        "colab": {
          "base_uri": "https://localhost:8080/",
          "height": 279
        },
        "id": "X-UiI1HbQxzW",
        "outputId": "d720600e-ad00-48d9-e6ac-6bfb2b619989"
      },
      "outputs": [
        {
          "data": {
            "image/png": "[encoded data removed]",
            "text/plain": [
              "<Figure size 432x288 with 1 Axes>"
            ]
          },
          "metadata": {
            "needs_background": "light"
          },
          "output_type": "display_data"
        }
      ],
      "source": [
        "# plt.hist(rangelen(y)),y)\n",
        "import matplotlib.pyplot as plt\n",
        "\n",
        "plt.xlabel('Image Size in pixels')\n",
        "plt.ylabel('Count')\n",
        "for i in range(len(y)):\n",
        "    plt.vlines(x[i],0,y[i])# Here you are drawing the horizontal lines\n",
        "plt.show()"
      ]
    }
  ],
  "metadata": {
    "colab": {
      "provenance": []
    },
    "kernelspec": {
      "display_name": "Python 3",
      "name": "python3"
    },
    "language_info": {
      "name": "python"
    }
  },
  "nbformat": 4,
  "nbformat_minor": 0
}
